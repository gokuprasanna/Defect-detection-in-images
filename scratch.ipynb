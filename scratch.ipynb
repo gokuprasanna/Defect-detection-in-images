{
 "cells": [
  {
   "metadata": {
    "jupyter": {
     "is_executing": true
    }
   },
   "cell_type": "code",
   "source": [
    "import torchvision\n",
    "import torch\n",
    "import matplotlib.pyplot as plt\n",
    "\n",
    "# sample input (10 RGB images containing just Gaussian Noise)\n",
    "batch_tensor = torch.randn(*(10, 3, 256, 256))   # (N, C, H, W)\n",
    "\n",
    "# make grid (2 rows and 5 columns) to display our 10 images\n",
    "grid_img = torchvision.utils.make_grid(batch_tensor, nrow=5)\n",
    "\n",
    "# check shape\n",
    "grid_img.shape\n",
    "torch.Size([3, 518, 1292])\n",
    "plt.imshow(grid_img.permute(1, 2, 0))"
   ],
   "id": "9aeab7d17965bc4f",
   "outputs": [],
   "execution_count": null
  }
 ],
 "metadata": {
  "kernelspec": {
   "display_name": "Python 3",
   "language": "python",
   "name": "python3"
  },
  "language_info": {
   "codemirror_mode": {
    "name": "ipython",
    "version": 2
   },
   "file_extension": ".py",
   "mimetype": "text/x-python",
   "name": "python",
   "nbconvert_exporter": "python",
   "pygments_lexer": "ipython2",
   "version": "2.7.6"
  }
 },
 "nbformat": 4,
 "nbformat_minor": 5
}
